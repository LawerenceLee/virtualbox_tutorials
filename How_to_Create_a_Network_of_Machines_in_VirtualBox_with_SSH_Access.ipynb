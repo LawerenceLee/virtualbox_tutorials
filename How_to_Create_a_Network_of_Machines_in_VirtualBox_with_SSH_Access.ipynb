{
 "cells": [
  {
   "cell_type": "markdown",
   "metadata": {},
   "source": [
    "# How to Create a Network of Machines in VirtualBox with SSH Access\n",
    "Video Tutorial by: Corey Schafer\n",
    "\n",
    "#### Instructions\n",
    "* Go to File > Host Network Manager, and click Create.\n",
    "* Go to DHCP Setting, and Disable them. Were giving our machines static IPs.\n",
    "* Select the Ubuntu Desktop you have installed, and click settings. \n",
    "* Naviagate to the Network Tab, check out the settings for adapter 1. 'Attached to:' should be set to NAT, and it should be enabled.\n",
    "    * This will allow our guests to make an internet connection through our host connection.\n",
    "* Go to adapter 2, enable it, and change 'Attached to:' to Host-only Adapter. Be sure its Name is set to the same one we just created in the Host Network Manager\n",
    "* Go to the Base Ubuntu Desktop you created, Ctrl click and select Clone.\n",
    "* Name the clone 'ubuntu-1', and click the checkbox that reinitalizes the MAC address of all network cards.\n",
    "* Select Full Clone\n",
    "* Select Current Machine State, and click clone.s\n",
    "* Repeat the process, but change the clone's name to 'ubuntu-2'.\n",
    "* Launch both Clones and log in using your original credentials from the base machine you cloned from.\n",
    "* Open terminal in both, and check to make sure they have an internet connection. You can do this by typing `ping google.com`.\n",
    "* Now we need to change the hostnames of both machines, because they are identical, which is not what we want.\n",
    "* BOTH MACHINES: Do this by typing `sudo nano /etc/hostname`. \n",
    "    * Remove both hostnames currently in the files and change one to ubuntu-1, and the other to ubuntu-2.\n",
    "    * Type Ctrl-X, y, and press enter.\n",
    "* BOTH MACHINES: And typing `sudo nano /etc/hosts`. \n",
    "    * Change the name under localhost to the name used in /etc/hostname.\n",
    "    * Type Ctrl-X, y, and press enter.\n",
    "* BOTH MACHINES: Type `ifconfig -a`.\n",
    "    * The `inet addr:` is bound to our first adapter\n",
    "    * We are going to set enp0s8's `inet addr:` to the ip address in our Host Network Manager"
   ]
  },
  {
   "cell_type": "markdown",
   "metadata": {},
   "source": [
    "![ubuntu-1](ifconfig.png)"
   ]
  },
  {
   "cell_type": "markdown",
   "metadata": {},
   "source": [
    "* BOTH MACHINES: Type `sudo nano /etc/network/interfaces`\n",
    "    * Add the following, BUT CHANGE the 1 to a 2 for ubuntu-2:\n",
    "```\n",
    "auto enp0s8\n",
    "iface enp0s8 inet static\n",
    "address 192.168.56.1\n",
    "netmask 255.255.255.0\n",
    "```\n",
    "    * This sets up a static ip for the machine.\n",
    "    * Type Ctrl-X, y (save), and press enter.\n",
    "* BOTH MACHINES: Run `sudo reboot`\n",
    "    * Those changes shouldn't need a reboot to take affect, but better safe then sorry.\n",
    "* BOTH MACHINES: Log Back in, and open terminal.\n",
    "    * Should see that the hostname has changed.\n",
    "* BOTH MACHINES: Re-run the `ifconfig -a` command.\n",
    "    * The static ip address you assigned to enp0s8 should now show up.\n",
    "* BOTH MACHINES: Now have either machine ping the other to test that they are indeed on the same network.\n",
    "```\n",
    "$ ping 192.168.56.<other_machines_number>\n",
    "```\n",
    "* Now lets check if our host machine has access to both. Open terminal, and ping either machine.\n",
    "* Now lets check if we can ssh into either machine.\n",
    "\n",
    "```\n",
    "ssh <username>@<machine's IP>\n",
    "```\n",
    "    * Now this might happen:\n",
    "```\n",
    "Lawerences-MacBook-Pro:~ lawerencelee$ ssh lawerencelee@192.168.56.1\n",
    "ssh: connect to host 192.168.56.1 port 22: Connection refused\n",
    "```\n",
    "    * This means you probably do not have Open SSH installed, a SSH server.\n",
    "    * BOTH MACHINES: Run `sudo apt-get update` and `sudo apt-get install openssh-server -y`\n",
    "    * If you did happen to have it installed and were still not able to connect try restarting the service with\n",
    "    `sudo service ssh restart`.\n",
    "* Now try shh-ing in again.\n",
    "* Once ssh-ed in, try `uname -a` to verify details about the machines OS (i.e. OS version, date it was initalized, etc.).\n",
    "* Should you encounter the following error:"
   ]
  },
  {
   "cell_type": "markdown",
   "metadata": {},
   "source": [
    "![SSH-fail](ssh_error.png)"
   ]
  },
  {
   "cell_type": "markdown",
   "metadata": {},
   "source": [
    "This can occur if you've been messing around with a few different machines, and you get to the point that you need to remove your keys belonging to a hostname from a know hostfile.\n",
    "* To remedy this type the following:\n",
    "```\n",
    "$ ssh-keygen -R <ip address of machine>\n",
    "```\n",
    "This removes the old key and stores it in a file, and then generates a new one.\n",
    "* Now have VirtualBox create snapshots for either machine (TURN OFF MACHINES FIRST).\n",
    "    * Set their names to SSH Setup, and place their static IPs in the description."
   ]
  },
  {
   "cell_type": "markdown",
   "metadata": {},
   "source": [
    "Lets make it so we can ssh in to our machines using their hostname.\n",
    "* On your local machine, type `sudo nano /etc/hosts`.\n",
    "* In the file add:\n",
    "```\n",
    "192.168.56.3    ubuntu-1\n",
    "192.168.56.2    ubuntu-2\n",
    "```\n",
    "* Now we should be able to ssh in like so:\n",
    "```\n",
    "$ ssh <usr name>@<hostname>"
   ]
  },
  {
   "cell_type": "code",
   "execution_count": null,
   "metadata": {},
   "outputs": [],
   "source": []
  }
 ],
 "metadata": {
  "kernelspec": {
   "display_name": "Python 3",
   "language": "python",
   "name": "python3"
  },
  "language_info": {
   "codemirror_mode": {
    "name": "ipython",
    "version": 3
   },
   "file_extension": ".py",
   "mimetype": "text/x-python",
   "name": "python",
   "nbconvert_exporter": "python",
   "pygments_lexer": "ipython3",
   "version": "3.6.3"
  }
 },
 "nbformat": 4,
 "nbformat_minor": 2
}
