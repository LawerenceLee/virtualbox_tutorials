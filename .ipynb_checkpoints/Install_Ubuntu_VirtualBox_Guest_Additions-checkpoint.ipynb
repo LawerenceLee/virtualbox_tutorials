{
 "cells": [
  {
   "cell_type": "markdown",
   "metadata": {},
   "source": [
    "# How to Install Ubuntu 16.04 LTS on VirtualBox with Guest Additions\n",
    "\n",
    "[Tutorial by Corey Schafer](https://www.youtube.com/watch?v=-2x-5DN-caM)\n",
    "\n",
    "* [Download](https://www.virtualbox.org/wiki/Downloads) and Install VirtualBox\n",
    "* Download ISO file from the [Ubuntu Site](https://www.ubuntu.com/download/desktop)\n",
    "\n",
    "\n",
    "## Setting up a new virtual machine\n",
    "* Click 'New'\n",
    "#### Name and Operating System\n",
    "* Type 'Ubuntu Linux' in Name field.\n",
    "* Select 'Linux' as type.\n",
    "* Select 'Ubuntu (64-bit)' for version.\n",
    "#### Memory Size\n",
    "* Anywhere in the green area should be fine,.\n",
    "* Corey chose 4GB, which is 4096mb.\n",
    "#### Hard Disk\n",
    "* Choose 'Create a virtual hard disk now'.\n",
    "#### Hard disk file type\n",
    "* Choose 'VDI (VirtualBod Disk Image)'.\n",
    "#### Storage on physical hard disk\n",
    "* Choose 'Dynamically allocated'\n",
    "#### File location and size\n",
    "* Leave file location alone\n",
    "* Change Hard disk size to 25GB (Ubuntu's recommended size)\n",
    "\n",
    "#### Once finished with initial setup\n",
    "* Go to the 'Settings' tab.\n",
    "* Within settings go to 'Display', and set 'Video Memory' to 128mb.\n",
    "    * Improves performance when starting up the machine.\n",
    "* Exit the 'Settings' tab.\n",
    "* On the main page, click on properties, then under 'Storage', click on '[Optical Drive] Empty'.\n",
    "* Go to 'Choose Disk Image', and navigate to where you downloaded the Ubuntu ISO file.\n",
    "\n",
    "#### Now Power up the machine and run thru the installer\n",
    "\n",
    "#### Guest Additions Software\n",
    "* What is it and why would I want to have it?\n",
    "    * Fixes display settings so that Ubuntu can go full screen.\n",
    "    * Allows the sharing of directories between your host machine and the VM.\n",
    "    * You can also share your clipboard.\n",
    "* Installation:\n",
    "    * Be sure your Ubuntu VM is selected.\n",
    "    * Go to Devices (should be at the top of your screen) inside of VirtualBox VM Application.\n",
    "    * Click 'Insert Guest Additions CD Image...'"
   ]
  },
  {
   "cell_type": "code",
   "execution_count": null,
   "metadata": {},
   "outputs": [],
   "source": []
  }
 ],
 "metadata": {
  "kernelspec": {
   "display_name": "Python 3",
   "language": "python",
   "name": "python3"
  },
  "language_info": {
   "codemirror_mode": {
    "name": "ipython",
    "version": 3
   },
   "file_extension": ".py",
   "mimetype": "text/x-python",
   "name": "python",
   "nbconvert_exporter": "python",
   "pygments_lexer": "ipython3",
   "version": "3.6.3"
  }
 },
 "nbformat": 4,
 "nbformat_minor": 2
}
