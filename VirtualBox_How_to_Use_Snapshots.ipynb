{
 "cells": [
  {
   "cell_type": "markdown",
   "metadata": {},
   "source": [
    "# VirtualBox: How to Use Snapshots\n",
    "\n",
    "#### What are Snapshots?\n",
    "* Allows one to save the state of a VM, and then restore the VM to that state at later date.\n",
    "* They allows to quickly roll back changes without needing to a complete reinstall and re-configuration.\n",
    "#### How to create them:\n",
    "* Select desired machine.\n",
    "* Click on 'Machine Tools'.\n",
    "* Go to 'Snapshots'.\n",
    "* Click on the 'Take' Icon, and fill in name/description\n",
    "\n",
    "### Example Case - Two Web Server Clients, Two Snapshots, One VM.\n",
    "#### : First Snapshot\n",
    "* In Terminal type `service apache2 status`\n",
    "* Will say that apache can't be found\n",
    "* To install type `sudo apt-get install apache2 -y`\n",
    "* Once completed power down the VM\n",
    "* Go to Snapshots menu once again and make a Snapshot.\n",
    "\n",
    "###### Second Snapshot\n",
    "* Go to the Snapshots menu, if you're not there already.\n",
    "* Select a previous Snapshot and click Restore.\n",
    "* Now power up your VM once again.\n",
    "* In terminal type `sudo apt-get install nginx`.\n",
    "* Once installed, shutdown VM.\n",
    "* Make a new Snapshot of the VM.\n",
    "\n",
    "Now you can test both Apache, and Nginx on the same Virtual Machine.\n",
    "\n",
    "### Snapshots while your VM is Running\n",
    "* A snapshot while the VM is off captures settings, and the state of the file system.\n",
    "* A snapshot while the VM is running captures the current state of the memory in its entirety, as well as aformentioned. \n",
    "    * This can be useful should you need to shutdown a machine mid-download, or something to that effect.\n",
    "    * However, keep in mind that a Snapshot taken while the machine is running creates a very large file, perhaps equal to the size of the VM's virtual disk itself.\n"
   ]
  },
  {
   "cell_type": "code",
   "execution_count": null,
   "metadata": {},
   "outputs": [],
   "source": []
  }
 ],
 "metadata": {
  "kernelspec": {
   "display_name": "Python 3",
   "language": "python",
   "name": "python3"
  },
  "language_info": {
   "codemirror_mode": {
    "name": "ipython",
    "version": 3
   },
   "file_extension": ".py",
   "mimetype": "text/x-python",
   "name": "python",
   "nbconvert_exporter": "python",
   "pygments_lexer": "ipython3",
   "version": "3.6.3"
  }
 },
 "nbformat": 4,
 "nbformat_minor": 2
}
